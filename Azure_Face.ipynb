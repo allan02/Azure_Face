{
 "cells": [
  {
   "cell_type": "code",
   "execution_count": null,
   "metadata": {},
   "outputs": [],
   "source": [
    "!pip install azure-cognitiveservices-vision-computervision\n",
    "!pip install cognitive-face\n",
    "!pip install azure-cognitiveservices-vision-face"
   ]
  },
  {
   "cell_type": "code",
   "execution_count": null,
   "metadata": {},
   "outputs": [],
   "source": [
    "cog_key = ''\n",
    "cog_endpoint = ''\n",
    "target_url = 'https://search.pstatic.net/common/?src=http%3A%2F%2Fimgnews.naver.net%2Fimage%2F421%2F2020%2F10%2F24%2F0004947507_002_20201024105240530.jpg&type=sc960_832'\n",
    "\n",
    "print('Ready to use cognitive services at {} using key {}'.format(cog_endpoint, cog_key))\n",
    "\n",
    "from azure.cognitiveservices.vision.face import FaceClient\n",
    "from msrest.authentication import CognitiveServicesCredentials\n",
    "\n",
    "attributes = ['age', 'emotion']\n",
    "face_client = FaceClient(cog_endpoint, CognitiveServicesCredentials(cog_key))\n",
    "detected_faces = face_client.face.detect_with_url(url=target_url, return_face_attributes=attributes)\n",
    "\n",
    "if detected_faces:\n",
    "    # If there are faces, how many?\n",
    "    num_faces = len(detected_faces)\n",
    "    prediction = ' (' + str(num_faces) + ' faces detected)'\n",
    "    # Draw a rectangle around each detected face\n",
    "    for face in detected_faces:\n",
    "        r = face.face_rectangle\n",
    "        bounding_box = ((r.left, r.top), (r.left + r.width, r.top + r.height))\n",
    "        print(r)\n",
    "        detected_attributes = face.face_attributes.as_dict()\n",
    "        age = 'age unknown' if 'age' not in detected_attributes.keys() else int(detected_attributes['age'])\n",
    "        annotations = 'Person aged approximately {}'.format(age)\n",
    "        txt_lines = 1\n",
    "        if 'emotion' in detected_attributes.keys():\n",
    "            for emotion_name in detected_attributes['emotion']:\n",
    "                txt_lines += 1\n",
    "                annotations += '\\n - {}: {}'.format(emotion_name, detected_attributes['emotion'][emotion_name])\n",
    "        print(annotations)"
   ]
  }
 ],
 "metadata": {
  "kernelspec": {
   "display_name": "Python 3",
   "language": "python",
   "name": "python3"
  },
  "language_info": {
   "codemirror_mode": {
    "name": "ipython",
    "version": 3
   },
   "file_extension": ".py",
   "mimetype": "text/x-python",
   "name": "python",
   "nbconvert_exporter": "python",
   "pygments_lexer": "ipython3",
   "version": "3.8.5"
  }
 },
 "nbformat": 4,
 "nbformat_minor": 4
}
